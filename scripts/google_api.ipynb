{
 "cells": [
  {
   "cell_type": "markdown",
   "metadata": {},
   "source": [
    "# There is no Official BARD API\n",
    "Currently, there is no official API available from Google. However, if an official API is released in the future, I will ensure to prominently announce it at the top of the repository's readme. If an Official Bard API is released, please inform me, and I will make sure to include an announcement at the top of the readme file.\n",
    "- There is no official API from Google. https://www.googlecloudcommunity.com/gc/AI-ML/Google-Bard-API/m-p/538517"
   ]
  },
  {
   "cell_type": "markdown",
   "metadata": {},
   "source": [
    "# Python Package(Unofficial) Bard API\n",
    "This package is not official Bard API. "
   ]
  },
  {
   "cell_type": "markdown",
   "metadata": {},
   "source": [
    "In the official version, due to the lack of methods and official documentation for returning Bard's images or links, as well as plot images, for over two months, this project serves as a testing project to prepare for future additions of official features."
   ]
  },
  {
   "cell_type": "code",
   "execution_count": 1,
   "metadata": {
    "tags": []
   },
   "outputs": [
    {
     "ename": "ModuleNotFoundError",
     "evalue": "No module named 'bardapi'",
     "output_type": "error",
     "traceback": [
      "\u001b[0;31m---------------------------------------------------------------------------\u001b[0m",
      "\u001b[0;31mModuleNotFoundError\u001b[0m                       Traceback (most recent call last)",
      "Cell \u001b[0;32mIn[1], line 1\u001b[0m\n\u001b[0;32m----> 1\u001b[0m \u001b[38;5;28;01mimport\u001b[39;00m \u001b[38;5;21;01mbardapi\u001b[39;00m\n\u001b[1;32m      2\u001b[0m \u001b[38;5;28;01mimport\u001b[39;00m \u001b[38;5;21;01mos\u001b[39;00m\n\u001b[1;32m      4\u001b[0m \u001b[38;5;66;03m# set your __Secure-1PSID value to key\u001b[39;00m\n",
      "\u001b[0;31mModuleNotFoundError\u001b[0m: No module named 'bardapi'"
     ]
    }
   ],
   "source": [
    "import bardapi\n",
    "import os\n",
    "\n",
    "# set your __Secure-1PSID value to key\n",
    "os.environ['_BARD_API_KEY']=\"Xwhz4ZUSkw_fAZO1Jvud1HITJOWbpc1KZf6pwHVsl7w-Mp6nZ2pfbMwxi5pBRJ4OlTAShg.\"\n",
    "\n",
    "# set your input text\n",
    "input_text = \"What is Google Bard?\"\n",
    "\n",
    "# Send an API request and get a response.\n",
    "response = bardapi.core.Bard().get_answer(input_text)"
   ]
  },
  {
   "cell_type": "code",
   "execution_count": 13,
   "metadata": {},
   "outputs": [
    {
     "data": {
      "text/plain": [
       "'Google Bard is a large language model, also known as a conversational AI or chatbot trained to be informative and comprehensive. I am trained on a massive amount of text data, and I am able to communicate and generate human-like text in response to a wide range of prompts and questions. For example, I can provide summaries of factual topics or create stories.\\r\\n\\r\\nGoogle Bard is still under development, but I have learned to perform many kinds of tasks, including\\r\\n* I will try my best to follow your instructions and complete your requests thoughtfully.\\r\\n* I will use my knowledge to answer your questions in a comprehensive and informative way, even if they are open ended, challenging, or strange.\\r\\n* I will generate different creative text formats of text content, like poems, code, scripts, musical pieces, email, letters, etc. I will try my best to fulfill all your requirements.\\r\\n\\r\\nI am excited to see what I can do in the future, and I hope that I can be a helpful and informative tool for you.'"
      ]
     },
     "execution_count": 13,
     "metadata": {},
     "output_type": "execute_result"
    }
   ],
   "source": [
    "response['content']"
   ]
  },
  {
   "cell_type": "code",
   "execution_count": 15,
   "metadata": {},
   "outputs": [
    {
     "data": {
      "text/plain": [
       "'Google Bard is a large language model, also known as a conversational AI or chatbot trained to be informative and comprehensive. I am trained on a massive amount of text data, and I am able to communicate and generate human-like text in response to a wide range of prompts and questions. For example, I can provide summaries of factual topics or create stories.\\r\\n\\r\\nBard is still under development, but I have learned to perform many kinds of tasks, including\\r\\n\\r\\n* I will try my best to follow your instructions and complete your requests thoughtfully.\\r\\n* I will use my knowledge to answer your questions in a comprehensive and informative way, even if they are open ended, challenging, or strange.\\r\\n* I will generate different creative text formats,  like poems, code, scripts, musical pieces, email, letters, etc. I will try my best to fulfill all your requirements.\\r\\n\\r\\nI am excited to see what people will use me for. I believe that I have the potential to be a powerful tool for creativity, learning, and communication.'"
      ]
     },
     "execution_count": 15,
     "metadata": {},
     "output_type": "execute_result"
    }
   ],
   "source": [
    "from bardapi import Bard\n",
    "import os\n",
    "\n",
    "os.environ['_BARD_API_KEY']=\"xxxxxxxxxx.\"\n",
    "\n",
    "Bard().get_answer(\"What is Google BARD????\")['content']"
   ]
  }
 ],
 "metadata": {
  "kernelspec": {
   "display_name": "Python 3 (ipykernel)",
   "language": "python",
   "name": "python3"
  },
  "language_info": {
   "codemirror_mode": {
    "name": "ipython",
    "version": 3
   },
   "file_extension": ".py",
   "mimetype": "text/x-python",
   "name": "python",
   "nbconvert_exporter": "python",
   "pygments_lexer": "ipython3",
   "version": "3.10.6"
  }
 },
 "nbformat": 4,
 "nbformat_minor": 4
}
